{
 "cells": [
  {
   "cell_type": "code",
   "execution_count": 1,
   "metadata": {},
   "outputs": [],
   "source": [
    "import itertools\n",
    "def prime(num):\n",
    "    for i in range(2, num):\n",
    "        if num % i == 0:\n",
    "            return False\n",
    "    return True\n",
    "\n",
    "def make_number_prime(num):\n",
    "    # write your code here\n",
    "    s = 0\n",
    "    max_prime = []\n",
    "    num_str = str(num)\n",
    "    ln = len(num_str)\n",
    "    perm =itertools.permutations(num_str)\n",
    "    for i in perm:\n",
    "        v = int(''.join(i))\n",
    "        if prime(v):\n",
    "            max_prime.append(v)\n",
    "    return max(max_prime) if len(max_prime) else -1\n",
    "    #   count = 0\n",
    "    #   for i in range(2, v):\n",
    "    #     if v % i == 2:\n",
    "    #       count += 1 \n",
    "    #   if count == 0:\n",
    "    #     if v > s:\n",
    "    #       return v\n",
    "\n",
    "\n"
   ]
  },
  {
   "cell_type": "code",
   "execution_count": 2,
   "metadata": {},
   "outputs": [
    {
     "data": {
      "text/plain": [
       "311"
      ]
     },
     "execution_count": 2,
     "metadata": {},
     "output_type": "execute_result"
    }
   ],
   "source": [
    "# num = int(input())\n",
    "num = 113\n",
    "make_number_prime(num)"
   ]
  },
  {
   "cell_type": "code",
   "execution_count": 5,
   "metadata": {},
   "outputs": [
    {
     "name": "stdout",
     "output_type": "stream",
     "text": [
      "78.5\n"
     ]
    }
   ],
   "source": [
    "r = 5\n",
    "print(3.14 * r ** 2)"
   ]
  },
  {
   "cell_type": "code",
   "execution_count": 3,
   "metadata": {},
   "outputs": [
    {
     "name": "stdout",
     "output_type": "stream",
     "text": [
      "You are my wife\n"
     ]
    }
   ],
   "source": [
    "print('You are my wife')"
   ]
  }
 ],
 "metadata": {
  "kernelspec": {
   "display_name": "Python 3.10.4 64-bit",
   "language": "python",
   "name": "python3"
  },
  "language_info": {
   "codemirror_mode": {
    "name": "ipython",
    "version": 3
   },
   "file_extension": ".py",
   "mimetype": "text/x-python",
   "name": "python",
   "nbconvert_exporter": "python",
   "pygments_lexer": "ipython3",
   "version": "3.10.4"
  },
  "orig_nbformat": 4,
  "vscode": {
   "interpreter": {
    "hash": "490f1c68ed42f2c5a574e22fb9e03ff49b98516de8582ff1c5d4fb43fb70f61b"
   }
  }
 },
 "nbformat": 4,
 "nbformat_minor": 2
}
