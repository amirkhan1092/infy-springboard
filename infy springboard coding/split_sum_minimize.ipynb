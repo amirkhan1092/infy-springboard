{
 "cells": [
  {
   "cell_type": "code",
   "execution_count": 10,
   "metadata": {},
   "outputs": [],
   "source": [
    "from itertools import combinations\n",
    "def partitions(N, k):\n",
    "    \"\"\"\n",
    "    Return all possible partitions of N using k numbers.\n",
    "    \"\"\"\n",
    "    if k == 1:\n",
    "        yield (N,)\n",
    "    else:\n",
    "        for i in range(1, N+1):\n",
    "            for p in partitions(N-i, k-1):\n",
    "                yield (i,) + p\n",
    "\n",
    "    "
   ]
  },
  {
   "cell_type": "code",
   "execution_count": 14,
   "metadata": {},
   "outputs": [
    {
     "name": "stdout",
     "output_type": "stream",
     "text": [
      "[(1, 1, 4), (1, 2, 3), (1, 3, 2), (1, 4, 1), (1, 5, 0), (2, 1, 3), (2, 2, 2), (2, 3, 1), (2, 4, 0), (3, 1, 2), (3, 2, 1), (3, 3, 0), (4, 1, 1), (4, 2, 0), (5, 1, 0)]\n"
     ]
    }
   ],
   "source": [
    "lst = [1, 2, 3]\n",
    "obj = partitions(sum(lst), len(lst))\n",
    "print(list(obj))"
   ]
  },
  {
   "cell_type": "code",
   "execution_count": 19,
   "metadata": {},
   "outputs": [],
   "source": [
    "def optimul_partition(lst, k):\n",
    "    \"\"\"\n",
    "    Return the optimul partition of lst using k numbers.\n",
    "    \"\"\"\n",
    "    if k == 1:\n",
    "        yield (lst,)\n",
    "    else:\n",
    "        for i in range(1, sum(lst)+1):\n",
    "            for p in optimul_partition(lst, k-1):\n",
    "                if i in p:\n",
    "                    continue\n",
    "                else:\n",
    "                    yield (i,) + p"
   ]
  },
  {
   "cell_type": "code",
   "execution_count": 16,
   "metadata": {},
   "outputs": [],
   "source": [
    "\n"
   ]
  },
  {
   "cell_type": "code",
   "execution_count": 17,
   "metadata": {},
   "outputs": [
    {
     "name": "stdout",
     "output_type": "stream",
     "text": [
      "main\n"
     ]
    }
   ],
   "source": [
    "k = abc()\n"
   ]
  },
  {
   "cell_type": "code",
   "execution_count": 18,
   "metadata": {},
   "outputs": [
    {
     "name": "stdout",
     "output_type": "stream",
     "text": [
      "wrapper\n"
     ]
    }
   ],
   "source": [
    "k()"
   ]
  },
  {
   "cell_type": "code",
   "execution_count": 15,
   "metadata": {},
   "outputs": [
    {
     "name": "stdout",
     "output_type": "stream",
     "text": [
      "Hi\n"
     ]
    },
    {
     "data": {
      "text/plain": [
       "<function __main__.abc()>"
      ]
     },
     "execution_count": 15,
     "metadata": {},
     "output_type": "execute_result"
    }
   ],
   "source": [
    "h()"
   ]
  },
  {
   "cell_type": "code",
   "execution_count": 22,
   "metadata": {},
   "outputs": [
    {
     "name": "stdout",
     "output_type": "stream",
     "text": [
      "[(1, [1, 2, 3, 4]), (2, [1, 2, 3, 4]), (3, [1, 2, 3, 4]), (4, [1, 2, 3, 4]), (5, [1, 2, 3, 4]), (6, [1, 2, 3, 4]), (7, [1, 2, 3, 4]), (8, [1, 2, 3, 4]), (9, [1, 2, 3, 4]), (10, [1, 2, 3, 4])]\n"
     ]
    }
   ],
   "source": [
    "lst = [1, 2, 3, 4]\n",
    "print(list(optimul_partition(lst, 2)))"
   ]
  }
 ],
 "metadata": {
  "kernelspec": {
   "display_name": "Python 3.10.4 64-bit",
   "language": "python",
   "name": "python3"
  },
  "language_info": {
   "codemirror_mode": {
    "name": "ipython",
    "version": 3
   },
   "file_extension": ".py",
   "mimetype": "text/x-python",
   "name": "python",
   "nbconvert_exporter": "python",
   "pygments_lexer": "ipython3",
   "version": "3.10.4"
  },
  "orig_nbformat": 4,
  "vscode": {
   "interpreter": {
    "hash": "490f1c68ed42f2c5a574e22fb9e03ff49b98516de8582ff1c5d4fb43fb70f61b"
   }
  }
 },
 "nbformat": 4,
 "nbformat_minor": 2
}
